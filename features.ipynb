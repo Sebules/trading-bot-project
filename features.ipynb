{
 "cells": [
  {
   "cell_type": "code",
   "execution_count": 1,
   "id": "421fe48e-23cf-4345-83cc-8b4016a144ca",
   "metadata": {},
   "outputs": [],
   "source": [
    "import pandas as pd\n",
    "import numpy as np"
   ]
  },
  {
   "cell_type": "code",
   "execution_count": 3,
   "id": "e2825366-ebda-4701-b8b9-9261a4aaaf9c",
   "metadata": {},
   "outputs": [],
   "source": [
    " %run \"C:/Users/sebas/Documents/trading_bot_project/strategies/rsi_strategy.ipynb\""
   ]
  },
  {
   "cell_type": "code",
   "execution_count": 7,
   "id": "f5b0da66-32b4-40a8-b98f-d4ea71474a89",
   "metadata": {},
   "outputs": [],
   "source": [
    "def prepare_features(df):\n",
    "    df = df.copy()\n",
    "    \n",
    "    # Retours futurs (target)\n",
    "    df['Return'] = df['Close'].pct_change().shift(-1)  # Retour du lendemain\n",
    "    df['Target'] = (df['Return'] > 0).astype(int)      # 1 si hausse, 0 sinon\n",
    "    \n",
    "    # Indicateurs\n",
    "    df['RSI'] = compute_rsi(df['Close'], window=14)\n",
    "    df['SMA_10'] = df['Close'].rolling(window=10).mean()\n",
    "    df['SMA_50'] = df['Close'].rolling(window=50).mean()\n",
    "    df['Momentum'] = df['Close'] - df['Close'].shift(5)\n",
    "    \n",
    "    df = df.dropna()\n",
    "    \n",
    "    features = ['RSI', 'SMA_10', 'SMA_50', 'Momentum']\n",
    "    return df[features + ['Target']]"
   ]
  },
  {
   "cell_type": "code",
   "execution_count": null,
   "id": "8fbc90f1-70c7-4138-9e2d-665b6c3c825b",
   "metadata": {},
   "outputs": [],
   "source": []
  }
 ],
 "metadata": {
  "kernelspec": {
   "display_name": "Python [conda env:base] *",
   "language": "python",
   "name": "conda-base-py"
  },
  "language_info": {
   "codemirror_mode": {
    "name": "ipython",
    "version": 3
   },
   "file_extension": ".py",
   "mimetype": "text/x-python",
   "name": "python",
   "nbconvert_exporter": "python",
   "pygments_lexer": "ipython3",
   "version": "3.12.7"
  }
 },
 "nbformat": 4,
 "nbformat_minor": 5
}
