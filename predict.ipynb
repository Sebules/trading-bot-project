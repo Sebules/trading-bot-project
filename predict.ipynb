{
 "cells": [
  {
   "cell_type": "code",
   "execution_count": 2,
   "id": "293d3980-2c70-4cb7-9a68-3397d856c77f",
   "metadata": {},
   "outputs": [],
   "source": [
    "import pandas as pd\n",
    "import joblib\n",
    "#from ml.features import prepare_features\n",
    "import os\n"
   ]
  },
  {
   "cell_type": "code",
   "execution_count": 4,
   "id": "d1958a48-aed5-430b-b274-72af9b518607",
   "metadata": {},
   "outputs": [],
   "source": [
    "%run \"C:/Users/sebas/Documents/trading_bot_project/ml/features.ipynb\""
   ]
  },
  {
   "cell_type": "markdown",
   "id": "00beb309-4c7d-438f-8bad-ac39f4981db5",
   "metadata": {},
   "source": [
    "# === PARAMÈTRES ==="
   ]
  },
  {
   "cell_type": "code",
   "execution_count": 18,
   "id": "80617209-7017-4d7f-ac61-c15e037ccf92",
   "metadata": {},
   "outputs": [],
   "source": [
    "\n",
    "DATA_PATH = \"C:/Users/sebas/Documents/trading_bot_project/data/btc_usdt.csv\"\n",
    "MODEL_PATH = \"C:/Users/sebas/Documents/trading_bot_project/ml/model_rf_100-42.pkl\"\n",
    "SAVE_SIGNALS = True\n",
    "SIGNAL_PATH = \"C:/Users/sebas/Documents/trading_bot_project/data/predictions.csv\""
   ]
  },
  {
   "cell_type": "markdown",
   "id": "fe231c95-7006-4ce6-9a00-c1b4324e3a84",
   "metadata": {},
   "source": [
    "# === CHARGER LES DONNÉES ==="
   ]
  },
  {
   "cell_type": "code",
   "execution_count": 10,
   "id": "26895859-bbc2-4b73-bd96-1f637bd956d2",
   "metadata": {},
   "outputs": [],
   "source": [
    "df = pd.read_csv(DATA_PATH, parse_dates=[\"Date\"], index_col=\"Date\")"
   ]
  },
  {
   "cell_type": "code",
   "execution_count": 33,
   "id": "5902c8c2-035b-47eb-ab4a-3ff04c6d5c8f",
   "metadata": {},
   "outputs": [
    {
     "data": {
      "text/html": [
       "<div>\n",
       "<style scoped>\n",
       "    .dataframe tbody tr th:only-of-type {\n",
       "        vertical-align: middle;\n",
       "    }\n",
       "\n",
       "    .dataframe tbody tr th {\n",
       "        vertical-align: top;\n",
       "    }\n",
       "\n",
       "    .dataframe thead th {\n",
       "        text-align: right;\n",
       "    }\n",
       "</style>\n",
       "<table border=\"1\" class=\"dataframe\">\n",
       "  <thead>\n",
       "    <tr style=\"text-align: right;\">\n",
       "      <th></th>\n",
       "      <th>Open</th>\n",
       "      <th>High</th>\n",
       "      <th>Low</th>\n",
       "      <th>Close</th>\n",
       "      <th>Volume</th>\n",
       "    </tr>\n",
       "    <tr>\n",
       "      <th>Date</th>\n",
       "      <th></th>\n",
       "      <th></th>\n",
       "      <th></th>\n",
       "      <th></th>\n",
       "      <th></th>\n",
       "    </tr>\n",
       "  </thead>\n",
       "  <tbody>\n",
       "    <tr>\n",
       "      <th>2023-01-01 00:00:00</th>\n",
       "      <td>16541.77</td>\n",
       "      <td>16545.70</td>\n",
       "      <td>16508.39</td>\n",
       "      <td>16529.67</td>\n",
       "      <td>4364.83570</td>\n",
       "    </tr>\n",
       "    <tr>\n",
       "      <th>2023-01-01 01:00:00</th>\n",
       "      <td>16529.59</td>\n",
       "      <td>16556.80</td>\n",
       "      <td>16525.78</td>\n",
       "      <td>16551.47</td>\n",
       "      <td>3590.06669</td>\n",
       "    </tr>\n",
       "    <tr>\n",
       "      <th>2023-01-01 02:00:00</th>\n",
       "      <td>16551.47</td>\n",
       "      <td>16559.77</td>\n",
       "      <td>16538.14</td>\n",
       "      <td>16548.19</td>\n",
       "      <td>3318.84038</td>\n",
       "    </tr>\n",
       "    <tr>\n",
       "      <th>2023-01-01 03:00:00</th>\n",
       "      <td>16548.19</td>\n",
       "      <td>16548.19</td>\n",
       "      <td>16518.21</td>\n",
       "      <td>16533.04</td>\n",
       "      <td>4242.08050</td>\n",
       "    </tr>\n",
       "    <tr>\n",
       "      <th>2023-01-01 04:00:00</th>\n",
       "      <td>16533.04</td>\n",
       "      <td>16535.97</td>\n",
       "      <td>16511.92</td>\n",
       "      <td>16521.85</td>\n",
       "      <td>4285.00909</td>\n",
       "    </tr>\n",
       "    <tr>\n",
       "      <th>...</th>\n",
       "      <td>...</td>\n",
       "      <td>...</td>\n",
       "      <td>...</td>\n",
       "      <td>...</td>\n",
       "      <td>...</td>\n",
       "    </tr>\n",
       "    <tr>\n",
       "      <th>2023-01-21 15:00:00</th>\n",
       "      <td>22955.80</td>\n",
       "      <td>23280.00</td>\n",
       "      <td>22930.92</td>\n",
       "      <td>22998.90</td>\n",
       "      <td>20526.86682</td>\n",
       "    </tr>\n",
       "    <tr>\n",
       "      <th>2023-01-21 16:00:00</th>\n",
       "      <td>22998.90</td>\n",
       "      <td>23269.73</td>\n",
       "      <td>22980.00</td>\n",
       "      <td>23197.45</td>\n",
       "      <td>18963.01053</td>\n",
       "    </tr>\n",
       "    <tr>\n",
       "      <th>2023-01-21 17:00:00</th>\n",
       "      <td>23196.43</td>\n",
       "      <td>23371.80</td>\n",
       "      <td>23126.06</td>\n",
       "      <td>23226.65</td>\n",
       "      <td>21948.64533</td>\n",
       "    </tr>\n",
       "    <tr>\n",
       "      <th>2023-01-21 18:00:00</th>\n",
       "      <td>23225.17</td>\n",
       "      <td>23269.99</td>\n",
       "      <td>23053.24</td>\n",
       "      <td>23248.52</td>\n",
       "      <td>12484.54121</td>\n",
       "    </tr>\n",
       "    <tr>\n",
       "      <th>2023-01-21 19:00:00</th>\n",
       "      <td>23247.40</td>\n",
       "      <td>23308.06</td>\n",
       "      <td>23174.08</td>\n",
       "      <td>23270.50</td>\n",
       "      <td>8812.55582</td>\n",
       "    </tr>\n",
       "  </tbody>\n",
       "</table>\n",
       "<p>500 rows × 5 columns</p>\n",
       "</div>"
      ],
      "text/plain": [
       "                         Open      High       Low     Close       Volume\n",
       "Date                                                                    \n",
       "2023-01-01 00:00:00  16541.77  16545.70  16508.39  16529.67   4364.83570\n",
       "2023-01-01 01:00:00  16529.59  16556.80  16525.78  16551.47   3590.06669\n",
       "2023-01-01 02:00:00  16551.47  16559.77  16538.14  16548.19   3318.84038\n",
       "2023-01-01 03:00:00  16548.19  16548.19  16518.21  16533.04   4242.08050\n",
       "2023-01-01 04:00:00  16533.04  16535.97  16511.92  16521.85   4285.00909\n",
       "...                       ...       ...       ...       ...          ...\n",
       "2023-01-21 15:00:00  22955.80  23280.00  22930.92  22998.90  20526.86682\n",
       "2023-01-21 16:00:00  22998.90  23269.73  22980.00  23197.45  18963.01053\n",
       "2023-01-21 17:00:00  23196.43  23371.80  23126.06  23226.65  21948.64533\n",
       "2023-01-21 18:00:00  23225.17  23269.99  23053.24  23248.52  12484.54121\n",
       "2023-01-21 19:00:00  23247.40  23308.06  23174.08  23270.50   8812.55582\n",
       "\n",
       "[500 rows x 5 columns]"
      ]
     },
     "execution_count": 33,
     "metadata": {},
     "output_type": "execute_result"
    }
   ],
   "source": [
    "df"
   ]
  },
  {
   "cell_type": "code",
   "execution_count": 45,
   "id": "dcaba4fa-d7a8-4003-8490-e921cb12e5e9",
   "metadata": {},
   "outputs": [],
   "source": [
    "# import matplotlib.pyplot as plt"
   ]
  },
  {
   "cell_type": "code",
   "execution_count": 47,
   "id": "af1fe97c-fadb-482f-a25c-543043f88bc8",
   "metadata": {},
   "outputs": [],
   "source": [
    "# plt.figure(figsize=(14,7))\n",
    "# plt.plot(df['Close'])\n",
    "# plt.plot(df['Close']-df['Close'].shift(5)) #Momentum à 5"
   ]
  },
  {
   "cell_type": "markdown",
   "id": "0e162652-bb01-47ca-9f23-10844c2525c7",
   "metadata": {},
   "source": [
    "# === GÉNÉRER LES FEATURES ==="
   ]
  },
  {
   "cell_type": "code",
   "execution_count": 13,
   "id": "1d6fad4e-6f91-440e-9b0f-a20c7cb3341b",
   "metadata": {},
   "outputs": [],
   "source": [
    "features_df = prepare_features(df)"
   ]
  },
  {
   "cell_type": "markdown",
   "id": "796dd9c9-6942-4564-9566-de3d53e617fb",
   "metadata": {},
   "source": [
    "# === CHARGER LE MODÈLE ==="
   ]
  },
  {
   "cell_type": "code",
   "execution_count": 20,
   "id": "ea649c46-570f-49a9-a1a7-bfdad1aa477a",
   "metadata": {},
   "outputs": [],
   "source": [
    "model = joblib.load(MODEL_PATH)"
   ]
  },
  {
   "cell_type": "markdown",
   "id": "142c49b9-c979-4005-ac5a-afd0a2ad95e8",
   "metadata": {},
   "source": [
    "# === FAIRE LA PRÉDICTION ==="
   ]
  },
  {
   "cell_type": "code",
   "execution_count": 23,
   "id": "c16ad1c7-2833-4591-94aa-7b2388bc3e7c",
   "metadata": {},
   "outputs": [],
   "source": [
    "X = features_df.drop(\"Target\", axis=1)\n",
    "features_df[\"Prediction\"] = model.predict(X)"
   ]
  },
  {
   "cell_type": "markdown",
   "id": "9f1ceaf2-7e54-41a2-8f70-9258a54c45ec",
   "metadata": {},
   "source": [
    "# === SIGNAL DE TRADING ===\n",
    " 1 → Long | 0 → Cash"
   ]
  },
  {
   "cell_type": "code",
   "execution_count": 26,
   "id": "5fdbce2d-d601-4d39-91d7-967626413c7b",
   "metadata": {},
   "outputs": [],
   "source": [
    "last_signal = features_df[\"Prediction\"].iloc[-1]\n",
    "last_date = features_df.index[-1]"
   ]
  },
  {
   "cell_type": "code",
   "execution_count": 28,
   "id": "f26b5bdf-645d-4a42-9f3f-6f341e2446ae",
   "metadata": {},
   "outputs": [
    {
     "name": "stdout",
     "output_type": "stream",
     "text": [
      "📈 Signal du 2023-01-21 : VENTE / CASH\n"
     ]
    }
   ],
   "source": [
    "print(f\"📈 Signal du {last_date.date()} : {'ACHAT (long)' if last_signal == 1 else 'VENTE / CASH'}\")"
   ]
  },
  {
   "cell_type": "markdown",
   "id": "bb58da07-eaf1-4502-aefa-6ffde6981c00",
   "metadata": {},
   "source": [
    "# === SAUVEGARDER LE SIGNAL SI BESOIN ==="
   ]
  },
  {
   "cell_type": "code",
   "execution_count": 31,
   "id": "33cb770f-152b-4ed2-89d8-bf63be18b2bd",
   "metadata": {},
   "outputs": [],
   "source": [
    "\n",
    "if SAVE_SIGNALS:\n",
    "    os.makedirs(\"data\", exist_ok=True)\n",
    "    features_df[['Prediction']].to_csv(SIGNAL_PATH)"
   ]
  },
  {
   "cell_type": "code",
   "execution_count": null,
   "id": "965d7bf3-d70d-402f-ba49-afadc8793023",
   "metadata": {},
   "outputs": [],
   "source": []
  }
 ],
 "metadata": {
  "kernelspec": {
   "display_name": "Python [conda env:base] *",
   "language": "python",
   "name": "conda-base-py"
  },
  "language_info": {
   "codemirror_mode": {
    "name": "ipython",
    "version": 3
   },
   "file_extension": ".py",
   "mimetype": "text/x-python",
   "name": "python",
   "nbconvert_exporter": "python",
   "pygments_lexer": "ipython3",
   "version": "3.12.7"
  }
 },
 "nbformat": 4,
 "nbformat_minor": 5
}
